{
 "cells": [
  {
   "cell_type": "code",
   "execution_count": null,
   "id": "d34b956d-221a-40fd-b3e3-0d5e813457e1",
   "metadata": {},
   "outputs": [],
   "source": []
  }
 ],
 "metadata": {
  "kernelspec": {
   "display_name": "",
   "name": ""
  },
  "language_info": {
   "name": ""
  }
 },
 "nbformat": 4,
 "nbformat_minor": 5
}
