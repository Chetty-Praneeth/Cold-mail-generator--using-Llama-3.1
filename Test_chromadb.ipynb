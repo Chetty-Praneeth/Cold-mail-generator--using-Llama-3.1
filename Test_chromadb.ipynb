{
 "cells": [
  {
   "cell_type": "code",
   "execution_count": 9,
   "id": "be8ea0e9-0dd0-4302-8c25-6ba9f4575347",
   "metadata": {},
   "outputs": [],
   "source": [
    "import chromadb"
   ]
  },
  {
   "cell_type": "code",
   "execution_count": 16,
   "id": "ec1764da-8ca2-4f3a-8690-ba085ab5bd67",
   "metadata": {},
   "outputs": [],
   "source": [
    "client = chromadb.Client()\n",
    "collection = client.create_collection(\"my_collections\")"
   ]
  },
  {
   "cell_type": "code",
   "execution_count": 26,
   "id": "7d4dfa87-0857-4499-b46a-b579154f2d9c",
   "metadata": {},
   "outputs": [
    {
     "name": "stderr",
     "output_type": "stream",
     "text": [
      "Insert of existing embedding ID: id1\n",
      "Insert of existing embedding ID: id2\n",
      "Add of existing embedding ID: id1\n",
      "Add of existing embedding ID: id2\n"
     ]
    }
   ],
   "source": [
    "collection.add(\n",
    "    documents = [\n",
    "        'Document is about Hyderabad',\n",
    "        'Document is about Delhi'\n",
    "        \n",
    "    ],\n",
    "    ids = ['id1','id2']\n",
    ")"
   ]
  },
  {
   "cell_type": "code",
   "execution_count": 27,
   "id": "63e914e6-b6e0-43b5-bd61-a857239d10ac",
   "metadata": {},
   "outputs": [
    {
     "data": {
      "text/plain": [
       "{'ids': ['id2', 'id1', 'id3', 'id4'],\n",
       " 'embeddings': None,\n",
       " 'documents': ['Document is about Delhi',\n",
       "  'Document is about New York',\n",
       "  'Document is about New York',\n",
       "  'Document is about Boston'],\n",
       " 'uris': None,\n",
       " 'data': None,\n",
       " 'metadatas': [None,\n",
       "  {'url': 'https://en.wikipedia.org/wiki/Boston'},\n",
       "  {'url': 'https://en.wikipedia.org/wiki/Boston'},\n",
       "  {'url': 'https://en.wikipedia.org/wiki/New_York'}],\n",
       " 'included': [<IncludeEnum.documents: 'documents'>,\n",
       "  <IncludeEnum.metadatas: 'metadatas'>]}"
      ]
     },
     "execution_count": 27,
     "metadata": {},
     "output_type": "execute_result"
    }
   ],
   "source": [
    "all_docs = collection.get()\n",
    "all_docs"
   ]
  },
  {
   "cell_type": "code",
   "execution_count": 28,
   "id": "a5562905-7a38-4098-81b8-0549ce703366",
   "metadata": {},
   "outputs": [
    {
     "data": {
      "text/plain": [
       "{'ids': ['id1'],\n",
       " 'embeddings': None,\n",
       " 'documents': ['Document is about New York'],\n",
       " 'uris': None,\n",
       " 'data': None,\n",
       " 'metadatas': [{'url': 'https://en.wikipedia.org/wiki/Boston'}],\n",
       " 'included': [<IncludeEnum.documents: 'documents'>,\n",
       "  <IncludeEnum.metadatas: 'metadatas'>]}"
      ]
     },
     "execution_count": 28,
     "metadata": {},
     "output_type": "execute_result"
    }
   ],
   "source": [
    "all_docs = collection.get(ids=['id1'])\n",
    "all_docs"
   ]
  },
  {
   "cell_type": "code",
   "execution_count": 29,
   "id": "4c2004c5-9d52-49d6-9a1f-f4f1306e3e87",
   "metadata": {},
   "outputs": [
    {
     "data": {
      "text/plain": [
       "{'ids': [['id2', 'id4']],\n",
       " 'embeddings': None,\n",
       " 'documents': [['Document is about Delhi', 'Document is about Boston']],\n",
       " 'uris': None,\n",
       " 'data': None,\n",
       " 'metadatas': [[None, {'url': 'https://en.wikipedia.org/wiki/New_York'}]],\n",
       " 'distances': [[1.5722378492355347, 1.7402079105377197]],\n",
       " 'included': [<IncludeEnum.distances: 'distances'>,\n",
       "  <IncludeEnum.documents: 'documents'>,\n",
       "  <IncludeEnum.metadatas: 'metadatas'>]}"
      ]
     },
     "execution_count": 29,
     "metadata": {},
     "output_type": "execute_result"
    }
   ],
   "source": [
    "result = collection.query(\n",
    "    query_texts = [\"Query is about Chhole Bhature\"],\n",
    "    n_results=2\n",
    ")\n",
    "result"
   ]
  },
  {
   "cell_type": "code",
   "execution_count": 30,
   "id": "37796eea-9765-47ab-b744-a784675c2427",
   "metadata": {},
   "outputs": [
    {
     "data": {
      "text/plain": [
       "{'ids': [['id2', 'id1']],\n",
       " 'embeddings': None,\n",
       " 'documents': [['Document is about Delhi', 'Document is about New York']],\n",
       " 'uris': None,\n",
       " 'data': None,\n",
       " 'metadatas': [[None, {'url': 'https://en.wikipedia.org/wiki/Boston'}]],\n",
       " 'distances': [[1.7206130027770996, 1.8084653615951538]],\n",
       " 'included': [<IncludeEnum.distances: 'distances'>,\n",
       "  <IncludeEnum.documents: 'documents'>,\n",
       "  <IncludeEnum.metadatas: 'metadatas'>]}"
      ]
     },
     "execution_count": 30,
     "metadata": {},
     "output_type": "execute_result"
    }
   ],
   "source": [
    "result = collection.query(\n",
    "    query_texts = [\"Query is about Biryani\"],\n",
    "    n_results=2\n",
    ")\n",
    "result"
   ]
  },
  {
   "cell_type": "code",
   "execution_count": 31,
   "id": "98606c0d-b55c-4803-bb8a-7e2f0888b531",
   "metadata": {},
   "outputs": [
    {
     "data": {
      "text/plain": [
       "{'ids': ['id2', 'id3', 'id4'],\n",
       " 'embeddings': None,\n",
       " 'documents': ['Document is about Delhi',\n",
       "  'Document is about New York',\n",
       "  'Document is about Boston'],\n",
       " 'uris': None,\n",
       " 'data': None,\n",
       " 'metadatas': [None,\n",
       "  {'url': 'https://en.wikipedia.org/wiki/Boston'},\n",
       "  {'url': 'https://en.wikipedia.org/wiki/New_York'}],\n",
       " 'included': [<IncludeEnum.documents: 'documents'>,\n",
       "  <IncludeEnum.metadatas: 'metadatas'>]}"
      ]
     },
     "execution_count": 31,
     "metadata": {},
     "output_type": "execute_result"
    }
   ],
   "source": [
    "collection.delete(ids=all_docs['ids'])\n",
    "collection.get()"
   ]
  },
  {
   "cell_type": "code",
   "execution_count": 42,
   "id": "3acc44bf-7d1f-4254-9627-fdc5f22963c2",
   "metadata": {},
   "outputs": [
    {
     "name": "stderr",
     "output_type": "stream",
     "text": [
      "Insert of existing embedding ID: id3\n",
      "Insert of existing embedding ID: id4\n",
      "Add of existing embedding ID: id3\n",
      "Add of existing embedding ID: id4\n"
     ]
    }
   ],
   "source": [
    "collection.add(\n",
    "    documents = [\n",
    "        'Document is about New York',\n",
    "        'Document is about Boston'\n",
    "        \n",
    "    ],\n",
    "    ids = ['id3','id4'],\n",
    "    metadatas = [\n",
    "        {\"url\": \"https://en.wikipedia.org/wiki/New_York\"},\n",
    "        {\"url\": \"https://en.wikipedia.org/wiki/Boston\"}\n",
    "    ]\n",
    ")"
   ]
  },
  {
   "cell_type": "code",
   "execution_count": 43,
   "id": "52173a59-e548-47d2-ad7e-7b675beacb9a",
   "metadata": {},
   "outputs": [
    {
     "data": {
      "text/plain": [
       "{'ids': [['id4', 'id2']],\n",
       " 'embeddings': None,\n",
       " 'documents': [['Document is about Boston', 'Document is about Delhi']],\n",
       " 'uris': None,\n",
       " 'data': None,\n",
       " 'metadatas': [[{'url': 'https://en.wikipedia.org/wiki/New_York'}, None]],\n",
       " 'distances': [[1.8053661584854126, 1.8304085731506348]],\n",
       " 'included': [<IncludeEnum.distances: 'distances'>,\n",
       "  <IncludeEnum.documents: 'documents'>,\n",
       "  <IncludeEnum.metadatas: 'metadatas'>]}"
      ]
     },
     "execution_count": 43,
     "metadata": {},
     "output_type": "execute_result"
    }
   ],
   "source": [
    "result = collection.query(\n",
    "    query_texts = [\"Query is about Time Square\"],\n",
    "    n_results=2\n",
    ")\n",
    "result"
   ]
  },
  {
   "cell_type": "code",
   "execution_count": null,
   "id": "72abb47b-c11e-42b2-b539-d7cdf11b8f5f",
   "metadata": {},
   "outputs": [],
   "source": []
  }
 ],
 "metadata": {
  "kernelspec": {
   "display_name": "Python 3 (ipykernel)",
   "language": "python",
   "name": "python3"
  },
  "language_info": {
   "codemirror_mode": {
    "name": "ipython",
    "version": 3
   },
   "file_extension": ".py",
   "mimetype": "text/x-python",
   "name": "python",
   "nbconvert_exporter": "python",
   "pygments_lexer": "ipython3",
   "version": "3.12.4"
  }
 },
 "nbformat": 4,
 "nbformat_minor": 5
}
